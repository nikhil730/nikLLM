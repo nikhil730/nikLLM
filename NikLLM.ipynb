{
  "nbformat": 4,
  "nbformat_minor": 0,
  "metadata": {
    "colab": {
      "provenance": [],
      "authorship_tag": "ABX9TyO+AwXukgbrU14WvqZ73OQv",
      "include_colab_link": true
    },
    "kernelspec": {
      "name": "python3",
      "display_name": "Python 3"
    },
    "language_info": {
      "name": "python"
    }
  },
  "cells": [
    {
      "cell_type": "markdown",
      "metadata": {
        "id": "view-in-github",
        "colab_type": "text"
      },
      "source": [
        "<a href=\"https://colab.research.google.com/github/Rishabh5752/RishLLM/blob/main/RishLLM.ipynb\" target=\"_parent\"><img src=\"https://colab.research.google.com/assets/colab-badge.svg\" alt=\"Open In Colab\"/></a>"
      ]
    },
    {
      "cell_type": "code",
      "execution_count": 2,
      "metadata": {
        "colab": {
          "base_uri": "https://localhost:8080/"
        },
        "id": "Tr0-bYpuN6ek",
        "outputId": "fd07781d-b729-4c48-c323-34e90bc3341a"
      },
      "outputs": [
        {
          "output_type": "stream",
          "name": "stdout",
          "text": [
            "Requirement already satisfied: cohere in /usr/local/lib/python3.10/dist-packages (4.27)\n",
            "Requirement already satisfied: aiohttp<4.0,>=3.0 in /usr/local/lib/python3.10/dist-packages (from cohere) (3.8.5)\n",
            "Requirement already satisfied: backoff<3.0,>=2.0 in /usr/local/lib/python3.10/dist-packages (from cohere) (2.2.1)\n",
            "Requirement already satisfied: fastavro==1.8.2 in /usr/local/lib/python3.10/dist-packages (from cohere) (1.8.2)\n",
            "Requirement already satisfied: importlib_metadata<7.0,>=6.0 in /usr/local/lib/python3.10/dist-packages (from cohere) (6.8.0)\n",
            "Requirement already satisfied: requests<3.0.0,>=2.25.0 in /usr/local/lib/python3.10/dist-packages (from cohere) (2.31.0)\n",
            "Requirement already satisfied: urllib3<3,>=1.26 in /usr/local/lib/python3.10/dist-packages (from cohere) (2.0.4)\n",
            "Requirement already satisfied: attrs>=17.3.0 in /usr/local/lib/python3.10/dist-packages (from aiohttp<4.0,>=3.0->cohere) (23.1.0)\n",
            "Requirement already satisfied: charset-normalizer<4.0,>=2.0 in /usr/local/lib/python3.10/dist-packages (from aiohttp<4.0,>=3.0->cohere) (3.2.0)\n",
            "Requirement already satisfied: multidict<7.0,>=4.5 in /usr/local/lib/python3.10/dist-packages (from aiohttp<4.0,>=3.0->cohere) (6.0.4)\n",
            "Requirement already satisfied: async-timeout<5.0,>=4.0.0a3 in /usr/local/lib/python3.10/dist-packages (from aiohttp<4.0,>=3.0->cohere) (4.0.3)\n",
            "Requirement already satisfied: yarl<2.0,>=1.0 in /usr/local/lib/python3.10/dist-packages (from aiohttp<4.0,>=3.0->cohere) (1.9.2)\n",
            "Requirement already satisfied: frozenlist>=1.1.1 in /usr/local/lib/python3.10/dist-packages (from aiohttp<4.0,>=3.0->cohere) (1.4.0)\n",
            "Requirement already satisfied: aiosignal>=1.1.2 in /usr/local/lib/python3.10/dist-packages (from aiohttp<4.0,>=3.0->cohere) (1.3.1)\n",
            "Requirement already satisfied: zipp>=0.5 in /usr/local/lib/python3.10/dist-packages (from importlib_metadata<7.0,>=6.0->cohere) (3.16.2)\n",
            "Requirement already satisfied: idna<4,>=2.5 in /usr/local/lib/python3.10/dist-packages (from requests<3.0.0,>=2.25.0->cohere) (3.4)\n",
            "Requirement already satisfied: certifi>=2017.4.17 in /usr/local/lib/python3.10/dist-packages (from requests<3.0.0,>=2.25.0->cohere) (2023.7.22)\n",
            "Collecting annoy\n",
            "  Downloading annoy-1.17.3.tar.gz (647 kB)\n",
            "\u001b[2K     \u001b[90m━━━━━━━━━━━━━━━━━━━━━━━━━━━━━━━━━━━━━━━\u001b[0m \u001b[32m647.5/647.5 kB\u001b[0m \u001b[31m8.7 MB/s\u001b[0m eta \u001b[36m0:00:00\u001b[0m\n",
            "\u001b[?25h  Preparing metadata (setup.py) ... \u001b[?25l\u001b[?25hdone\n",
            "Building wheels for collected packages: annoy\n",
            "  Building wheel for annoy (setup.py) ... \u001b[?25l\u001b[?25hdone\n",
            "  Created wheel for annoy: filename=annoy-1.17.3-cp310-cp310-linux_x86_64.whl size=552449 sha256=ecb3a309a841010abaa60a1296f668b84adbdb776cd43128532f71c7af41cfb2\n",
            "  Stored in directory: /root/.cache/pip/wheels/64/8a/da/f714bcf46c5efdcfcac0559e63370c21abe961c48e3992465a\n",
            "Successfully built annoy\n",
            "Installing collected packages: annoy\n",
            "Successfully installed annoy-1.17.3\n"
          ]
        }
      ],
      "source": [
        "!pip install cohere\n",
        "!pip install annoy\n",
        "import cohere\n",
        "import numpy as np\n",
        "import warnings\n",
        "warnings.filterwarnings ('ignore')\n",
        "from annoy import AnnoyIndex\n",
        "import numpy as np\n",
        "import pandas as pd"
      ]
    },
    {
      "cell_type": "code",
      "source": [
        "question = \"Which Sydney beach should I visit?\"\n",
        "\n",
        "\n",
        "\n",
        "text = \"\"\"\n",
        "\n",
        "Sydney is world famous for beautiful beaches. These beaches offer different vibes and attractions, from bustling crowds and great surfing conditions to more tranquil and family-friendly environments.\n",
        "\n",
        "\n",
        "\n",
        "Bondi Beach: Bondi is perhaps the most famous beach in Sydney, if not Australia. It's known for its golden sands, vibrant atmosphere, and excellent surfing conditions. The Bondi to Coogee coastal walk offers stunning views of the coastline.\n",
        "\n",
        "\n",
        "\n",
        "Manly Beach: Easily accessible by a scenic ferry ride from Circular Quay, Manly Beach is known for its laid-back atmosphere and family-friendly environment. The beach is great for swimming, surfing, and various water sports.\n",
        "\n",
        "\n",
        "\n",
        "Cronulla Beach: Located in the Sutherland Shire, Cronulla offers a more relaxed atmosphere compared to some of the busier city beaches. It's a great spot for swimming, picnicking, and enjoying a range of seaside cafes and restaurants.\n",
        "\n",
        "\n",
        "\n",
        "Bronte Beach: Situated between Bondi and Coogee, Bronte Beach is popular among both locals and visitors. It's a smaller, quieter beach with a beautiful park area and a natural rock pool that's ideal for swimming.\n",
        "\n",
        "\n",
        "\n",
        "Tamarama Beach: Also known as \"Glamarama\" due to its popularity among the fashion-conscious crowd, Tamarama Beach is a smaller and more secluded option. It's surrounded by rocky cliffs and offers strong surf, making it a favorite among experienced surfers.\n",
        "\n",
        "\"\"\""
      ],
      "metadata": {
        "id": "60W9-Xu0a_EJ"
      },
      "execution_count": 3,
      "outputs": []
    },
    {
      "cell_type": "code",
      "source": [
        "# Split into a list of paragraphs\n",
        "\n",
        "texts = text.split('\\n\\n')\n",
        "\n",
        "\n",
        "\n",
        "# Clean up to remove empty spaces and new lines\n",
        "\n",
        "texts = np.array([t.strip(' \\n') for t in texts if t])\n",
        "\n",
        "\n",
        "\n",
        "co = cohere.Client('4GMQpN0nV9chIaV3DTQNmVYiskbTZdDBPrvw7pPs')"
      ],
      "metadata": {
        "id": "CkZ-Rt7WbQHs"
      },
      "execution_count": 8,
      "outputs": []
    },
    {
      "cell_type": "code",
      "source": [
        "# Get the embeddings\n",
        "\n",
        "response = co.embed(\n",
        "\n",
        "    texts=texts.tolist(),\n",
        "\n",
        ").embeddings"
      ],
      "metadata": {
        "id": "GQA1j1X2bVHN"
      },
      "execution_count": 9,
      "outputs": []
    },
    {
      "cell_type": "code",
      "source": [
        "# Check the dimensions of the embeddings\n",
        "\n",
        "embeds = np.array(response)\n",
        "\n",
        "\n",
        "\n",
        "# Create the search index, pass the size of embedding\n",
        "\n",
        "search_index = AnnoyIndex(embeds.shape[1], 'angular')\n",
        "\n",
        "# Add all the vectors to the search index\n",
        "\n",
        "for i in range(len(embeds)):\n",
        "\n",
        "    search_index.add_item(i, embeds[i])\n",
        "\n",
        "\n",
        "\n",
        "search_index.build(10) # 10 trees\n",
        "\n",
        "search_index.save('test.ann')\n",
        "\n"
      ],
      "metadata": {
        "colab": {
          "base_uri": "https://localhost:8080/"
        },
        "id": "NXf04v-0bYQL",
        "outputId": "8cdab47a-7fb4-41b3-a83f-91d96c473237"
      },
      "execution_count": 10,
      "outputs": [
        {
          "output_type": "execute_result",
          "data": {
            "text/plain": [
              "True"
            ]
          },
          "metadata": {},
          "execution_count": 10
        }
      ]
    },
    {
      "cell_type": "code",
      "source": [
        "def search_text(query):\n",
        "\n",
        "    # Get the query's embedding\n",
        "\n",
        "    query_embed = co.embed(texts=[query]).embeddings\n",
        "\n",
        "\n",
        "\n",
        "    # Retrieve the nearest neighbors\n",
        "\n",
        "    similar_item_ids = search_index.get_nns_by_vector(query_embed[0],\n",
        "\n",
        "                                                    10,\n",
        "\n",
        "                                                  include_distances=True)\n",
        "\n",
        "\n",
        "\n",
        "    search_results = texts[similar_item_ids[0]]\n",
        "\n",
        "\n",
        "\n",
        "    return search_results\n",
        "\n"
      ],
      "metadata": {
        "id": "CxqvHio-buth"
      },
      "execution_count": 11,
      "outputs": []
    },
    {
      "cell_type": "code",
      "source": [
        "results = search_text(question)\n",
        "\n",
        "\n",
        "\n",
        "print(results[0])"
      ],
      "metadata": {
        "colab": {
          "base_uri": "https://localhost:8080/"
        },
        "id": "4BSLNCP6cQ36",
        "outputId": "c9ae98ea-988c-4aa2-df26-d8b8ccd7164d"
      },
      "execution_count": 12,
      "outputs": [
        {
          "output_type": "stream",
          "name": "stdout",
          "text": [
            "Bondi Beach: Bondi is perhaps the most famous beach in Sydney, if not Australia. It's known for its golden sands, vibrant atmosphere, and excellent surfing conditions. The Bondi to Coogee coastal walk offers stunning views of the coastline.\n"
          ]
        }
      ]
    },
    {
      "cell_type": "code",
      "source": [
        "def ask_llm(question, num_generations=1):\n",
        "\n",
        "\n",
        "\n",
        "    # Search the text archive\n",
        "\n",
        "    results = search_text(question)\n",
        "\n",
        "\n",
        "\n",
        "    # Get the top result\n",
        "\n",
        "    context = results[0]\n",
        "\n",
        "\n",
        "\n",
        "    # Prepare the prompt\n",
        "\n",
        "    prompt = f\"\"\"\n",
        "\n",
        "    More information about Australian beaches at australia.com:\n",
        "\n",
        "    {context}\n",
        "\n",
        "    Question: {question}\n",
        "\n",
        "\n",
        "\n",
        "    Extract the answer of the question from the text provided.\n",
        "\n",
        "    If the text doesn't contain the answer,\n",
        "\n",
        "    reply that the answer is not available.\"\"\"\n",
        "\n",
        "\n",
        "\n",
        "    prediction = co.generate(\n",
        "\n",
        "        prompt=prompt,\n",
        "\n",
        "        max_tokens=70,\n",
        "\n",
        "        model=\"command-nightly\",\n",
        "\n",
        "        temperature=0.5,\n",
        "\n",
        "        num_generations=num_generations\n",
        "\n",
        "    )\n",
        "\n",
        "\n",
        "\n",
        "    return prediction.generations"
      ],
      "metadata": {
        "id": "RFryUapYcT57"
      },
      "execution_count": 13,
      "outputs": []
    },
    {
      "cell_type": "code",
      "source": [
        "results = ask_llm(question,)\n",
        "\n",
        "print(results[0])"
      ],
      "metadata": {
        "colab": {
          "base_uri": "https://localhost:8080/"
        },
        "id": "xOavyTQmci9j",
        "outputId": "5acf665d-b94e-45d4-b312-c0ca7e6b77c8"
      },
      "execution_count": 15,
      "outputs": [
        {
          "output_type": "stream",
          "name": "stdout",
          "text": [
            " The answer is Bondi Beach, known for its golden sands, vibrant atmosphere, and excellent surfing conditions. \n"
          ]
        }
      ]
    },
    {
      "cell_type": "code",
      "source": [
        "question = \"Which Sydney beach is for family?\"\n",
        "\n",
        "results = ask_llm(question,)\n",
        "\n",
        "print(results[0])"
      ],
      "metadata": {
        "colab": {
          "base_uri": "https://localhost:8080/"
        },
        "id": "V5PorRHdcl1m",
        "outputId": "c7a9aa33-95df-457c-a28d-7af6beb22228"
      },
      "execution_count": 16,
      "outputs": [
        {
          "output_type": "stream",
          "name": "stdout",
          "text": [
            " The answer is not available. The text mentions the beaches offering different vibes but does not specify which beach is for families. \n"
          ]
        }
      ]
    },
    {
      "cell_type": "code",
      "source": [
        "question = \"Which Sydney beach has a rock pool?\"\n",
        "\n",
        "results = ask_llm(question,)\n",
        "\n",
        "print(results[0])"
      ],
      "metadata": {
        "colab": {
          "base_uri": "https://localhost:8080/"
        },
        "id": "r8dbLdy6crUj",
        "outputId": "27596748-e963-4af8-c1dc-382e91a1ff7d"
      },
      "execution_count": 17,
      "outputs": [
        {
          "output_type": "stream",
          "name": "stdout",
          "text": [
            " Bronte Beach\n"
          ]
        }
      ]
    },
    {
      "cell_type": "code",
      "source": [
        "question = \"Which Sydney beach is the most famous?\"\n",
        "\n",
        "results = ask_llm(question,)\n",
        "\n",
        "print(results[0])"
      ],
      "metadata": {
        "colab": {
          "base_uri": "https://localhost:8080/"
        },
        "id": "_ZEZWmp3cxYp",
        "outputId": "7d0e5fbe-42b4-4138-9c48-79e5c66aa50b"
      },
      "execution_count": 18,
      "outputs": [
        {
          "output_type": "stream",
          "name": "stdout",
          "text": [
            " The answer is Bondi Beach, known for its golden sands, vibrant atmosphere, and excellent surfing conditions.\n"
          ]
        }
      ]
    },
    {
      "cell_type": "code",
      "source": [
        "question = \"Which Sydney beach is the safest?\"\n",
        "\n",
        "results = ask_llm(question,)\n",
        "\n",
        "print(results[0])"
      ],
      "metadata": {
        "colab": {
          "base_uri": "https://localhost:8080/"
        },
        "id": "l6fxThwHg_eE",
        "outputId": "2bb514db-66e8-41dd-bf96-04910ebd6d00"
      },
      "execution_count": 19,
      "outputs": [
        {
          "output_type": "stream",
          "name": "stdout",
          "text": [
            " The text doesn't contain the answer.\n"
          ]
        }
      ]
    },
    {
      "cell_type": "code",
      "source": [],
      "metadata": {
        "id": "QjPGUGKLhESN"
      },
      "execution_count": null,
      "outputs": []
    }
  ]
}